{
 "cells": [
  {
   "cell_type": "code",
   "execution_count": 1,
   "metadata": {},
   "outputs": [],
   "source": [
    "import numpy as np"
   ]
  },
  {
   "cell_type": "code",
   "execution_count": 2,
   "metadata": {},
   "outputs": [
    {
     "data": {
      "text/plain": [
       "array([[[[0, 9, 3, 0, 6],\n",
       "         [6, 1, 8, 5, 3],\n",
       "         [6, 3, 3, 9, 0],\n",
       "         [4, 3, 9, 6, 0]],\n",
       "\n",
       "        [[9, 0, 7, 4, 4],\n",
       "         [5, 0, 6, 8, 8],\n",
       "         [4, 1, 1, 5, 0],\n",
       "         [0, 4, 0, 8, 5]],\n",
       "\n",
       "        [[3, 8, 2, 9, 0],\n",
       "         [1, 6, 9, 1, 2],\n",
       "         [9, 5, 7, 1, 8],\n",
       "         [0, 5, 6, 2, 9]]],\n",
       "\n",
       "\n",
       "       [[[9, 1, 8, 2, 0],\n",
       "         [2, 3, 4, 1, 2],\n",
       "         [0, 0, 5, 3, 8],\n",
       "         [2, 4, 4, 7, 0]],\n",
       "\n",
       "        [[2, 4, 2, 4, 9],\n",
       "         [4, 0, 5, 1, 2],\n",
       "         [7, 5, 2, 2, 8],\n",
       "         [6, 0, 9, 7, 3]],\n",
       "\n",
       "        [[1, 8, 9, 9, 1],\n",
       "         [7, 6, 0, 3, 1],\n",
       "         [6, 0, 8, 2, 2],\n",
       "         [7, 9, 1, 1, 4]]]])"
      ]
     },
     "execution_count": 2,
     "metadata": {},
     "output_type": "execute_result"
    }
   ],
   "source": [
    "random_array = np.random.randint(10, size=(2,3,4,5))\n",
    "random_array"
   ]
  },
  {
   "cell_type": "code",
   "execution_count": 3,
   "metadata": {},
   "outputs": [
    {
     "data": {
      "text/plain": [
       "(120, (2, 3, 4, 5), 4)"
      ]
     },
     "execution_count": 3,
     "metadata": {},
     "output_type": "execute_result"
    }
   ],
   "source": [
    "random_array.size, random_array.shape, random_array.ndim"
   ]
  },
  {
   "cell_type": "code",
   "execution_count": 4,
   "metadata": {},
   "outputs": [
    {
     "data": {
      "text/plain": [
       "array([[[[0, 9, 3],\n",
       "         [6, 1, 8],\n",
       "         [6, 3, 3],\n",
       "         [4, 3, 9]],\n",
       "\n",
       "        [[9, 0, 7],\n",
       "         [5, 0, 6],\n",
       "         [4, 1, 1],\n",
       "         [0, 4, 0]],\n",
       "\n",
       "        [[3, 8, 2],\n",
       "         [1, 6, 9],\n",
       "         [9, 5, 7],\n",
       "         [0, 5, 6]]],\n",
       "\n",
       "\n",
       "       [[[9, 1, 8],\n",
       "         [2, 3, 4],\n",
       "         [0, 0, 5],\n",
       "         [2, 4, 4]],\n",
       "\n",
       "        [[2, 4, 2],\n",
       "         [4, 0, 5],\n",
       "         [7, 5, 2],\n",
       "         [6, 0, 9]],\n",
       "\n",
       "        [[1, 8, 9],\n",
       "         [7, 6, 0],\n",
       "         [6, 0, 8],\n",
       "         [7, 9, 1]]]])"
      ]
     },
     "execution_count": 4,
     "metadata": {},
     "output_type": "execute_result"
    }
   ],
   "source": [
    "random_array[:, :, :, :3]"
   ]
  },
  {
   "cell_type": "code",
   "execution_count": 5,
   "metadata": {},
   "outputs": [
    {
     "data": {
      "text/plain": [
       "array([[[[0, 9, 3, 0],\n",
       "         [6, 1, 8, 5],\n",
       "         [6, 3, 3, 9],\n",
       "         [4, 3, 9, 6]],\n",
       "\n",
       "        [[9, 0, 7, 4],\n",
       "         [5, 0, 6, 8],\n",
       "         [4, 1, 1, 5],\n",
       "         [0, 4, 0, 8]],\n",
       "\n",
       "        [[3, 8, 2, 9],\n",
       "         [1, 6, 9, 1],\n",
       "         [9, 5, 7, 1],\n",
       "         [0, 5, 6, 2]]],\n",
       "\n",
       "\n",
       "       [[[9, 1, 8, 2],\n",
       "         [2, 3, 4, 1],\n",
       "         [0, 0, 5, 3],\n",
       "         [2, 4, 4, 7]],\n",
       "\n",
       "        [[2, 4, 2, 4],\n",
       "         [4, 0, 5, 1],\n",
       "         [7, 5, 2, 2],\n",
       "         [6, 0, 9, 7]],\n",
       "\n",
       "        [[1, 8, 9, 9],\n",
       "         [7, 6, 0, 3],\n",
       "         [6, 0, 8, 2],\n",
       "         [7, 9, 1, 1]]]])"
      ]
     },
     "execution_count": 5,
     "metadata": {},
     "output_type": "execute_result"
    }
   ],
   "source": [
    "random_array[:, :, :, :4]"
   ]
  },
  {
   "cell_type": "code",
   "execution_count": 6,
   "metadata": {},
   "outputs": [
    {
     "data": {
      "text/plain": [
       "array([[[[0, 9, 3, 0, 6],\n",
       "         [6, 1, 8, 5, 3],\n",
       "         [6, 3, 3, 9, 0],\n",
       "         [4, 3, 9, 6, 0]],\n",
       "\n",
       "        [[9, 0, 7, 4, 4],\n",
       "         [5, 0, 6, 8, 8],\n",
       "         [4, 1, 1, 5, 0],\n",
       "         [0, 4, 0, 8, 5]],\n",
       "\n",
       "        [[3, 8, 2, 9, 0],\n",
       "         [1, 6, 9, 1, 2],\n",
       "         [9, 5, 7, 1, 8],\n",
       "         [0, 5, 6, 2, 9]]],\n",
       "\n",
       "\n",
       "       [[[9, 1, 8, 2, 0],\n",
       "         [2, 3, 4, 1, 2],\n",
       "         [0, 0, 5, 3, 8],\n",
       "         [2, 4, 4, 7, 0]],\n",
       "\n",
       "        [[2, 4, 2, 4, 9],\n",
       "         [4, 0, 5, 1, 2],\n",
       "         [7, 5, 2, 2, 8],\n",
       "         [6, 0, 9, 7, 3]],\n",
       "\n",
       "        [[1, 8, 9, 9, 1],\n",
       "         [7, 6, 0, 3, 1],\n",
       "         [6, 0, 8, 2, 2],\n",
       "         [7, 9, 1, 1, 4]]]])"
      ]
     },
     "execution_count": 6,
     "metadata": {},
     "output_type": "execute_result"
    }
   ],
   "source": [
    "random_array"
   ]
  },
  {
   "cell_type": "code",
   "execution_count": 7,
   "metadata": {},
   "outputs": [
    {
     "data": {
      "text/plain": [
       "array([[[[3, 0],\n",
       "         [8, 5],\n",
       "         [3, 9],\n",
       "         [9, 6]],\n",
       "\n",
       "        [[7, 4],\n",
       "         [6, 8],\n",
       "         [1, 5],\n",
       "         [0, 8]],\n",
       "\n",
       "        [[2, 9],\n",
       "         [9, 1],\n",
       "         [7, 1],\n",
       "         [6, 2]]],\n",
       "\n",
       "\n",
       "       [[[8, 2],\n",
       "         [4, 1],\n",
       "         [5, 3],\n",
       "         [4, 7]],\n",
       "\n",
       "        [[2, 4],\n",
       "         [5, 1],\n",
       "         [2, 2],\n",
       "         [9, 7]],\n",
       "\n",
       "        [[9, 9],\n",
       "         [0, 3],\n",
       "         [8, 2],\n",
       "         [1, 1]]]])"
      ]
     },
     "execution_count": 7,
     "metadata": {},
     "output_type": "execute_result"
    }
   ],
   "source": [
    "random_array[:, :, :, 2:4]"
   ]
  },
  {
   "cell_type": "code",
   "execution_count": 8,
   "metadata": {},
   "outputs": [
    {
     "data": {
      "text/plain": [
       "array([[[[0, 9, 3, 0, 6],\n",
       "         [6, 1, 8, 5, 3],\n",
       "         [6, 3, 3, 9, 0],\n",
       "         [4, 3, 9, 6, 0]],\n",
       "\n",
       "        [[9, 0, 7, 4, 4],\n",
       "         [5, 0, 6, 8, 8],\n",
       "         [4, 1, 1, 5, 0],\n",
       "         [0, 4, 0, 8, 5]],\n",
       "\n",
       "        [[3, 8, 2, 9, 0],\n",
       "         [1, 6, 9, 1, 2],\n",
       "         [9, 5, 7, 1, 8],\n",
       "         [0, 5, 6, 2, 9]]],\n",
       "\n",
       "\n",
       "       [[[9, 1, 8, 2, 0],\n",
       "         [2, 3, 4, 1, 2],\n",
       "         [0, 0, 5, 3, 8],\n",
       "         [2, 4, 4, 7, 0]],\n",
       "\n",
       "        [[2, 4, 2, 4, 9],\n",
       "         [4, 0, 5, 1, 2],\n",
       "         [7, 5, 2, 2, 8],\n",
       "         [6, 0, 9, 7, 3]],\n",
       "\n",
       "        [[1, 8, 9, 9, 1],\n",
       "         [7, 6, 0, 3, 1],\n",
       "         [6, 0, 8, 2, 2],\n",
       "         [7, 9, 1, 1, 4]]]])"
      ]
     },
     "execution_count": 8,
     "metadata": {},
     "output_type": "execute_result"
    }
   ],
   "source": [
    "random_array"
   ]
  },
  {
   "cell_type": "code",
   "execution_count": 9,
   "metadata": {},
   "outputs": [
    {
     "data": {
      "text/plain": [
       "array([[[[0, 9, 3, 0, 6],\n",
       "         [6, 1, 8, 5, 3],\n",
       "         [6, 3, 3, 9, 0],\n",
       "         [4, 3, 9, 6, 0]],\n",
       "\n",
       "        [[9, 0, 7, 4, 4],\n",
       "         [5, 0, 6, 8, 8],\n",
       "         [4, 1, 1, 5, 0],\n",
       "         [0, 4, 0, 8, 5]]]])"
      ]
     },
     "execution_count": 9,
     "metadata": {},
     "output_type": "execute_result"
    }
   ],
   "source": [
    "random_array[:1,:2,:,:]"
   ]
  }
 ],
 "metadata": {
  "kernelspec": {
   "display_name": "Python 3",
   "language": "python",
   "name": "python3"
  },
  "language_info": {
   "codemirror_mode": {
    "name": "ipython",
    "version": 3
   },
   "file_extension": ".py",
   "mimetype": "text/x-python",
   "name": "python",
   "nbconvert_exporter": "python",
   "pygments_lexer": "ipython3",
   "version": "3.7.6"
  }
 },
 "nbformat": 4,
 "nbformat_minor": 4
}
